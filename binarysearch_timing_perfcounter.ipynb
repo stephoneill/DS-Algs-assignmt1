{
 "cells": [
  {
   "cell_type": "code",
   "execution_count": 7,
   "metadata": {},
   "outputs": [],
   "source": [
    "import time"
   ]
  },
  {
   "cell_type": "code",
   "execution_count": 8,
   "metadata": {},
   "outputs": [],
   "source": [
    "def binarysearch(sequence, target):\n",
    "    left, right = 0, len(sequence)-1\n",
    "    while left <= right: \n",
    "  \n",
    "        mid = (right + left) // 2;\n",
    "          \n",
    "        # Check if target is present at mid \n",
    "        if sequence[mid] == target: \n",
    "            return mid \n",
    "  \n",
    "        # If target is greater, ignore left half \n",
    "        if sequence[mid] < target: \n",
    "            left = mid + 1\n",
    "  \n",
    "        # If target is smaller, ignore right half \n",
    "        elif sequence[mid] > target: \n",
    "            right = mid - 1\n",
    "      \n",
    "    # If we reach here, then the element \n",
    "    # was not present \n",
    "    return -1"
   ]
  },
  {
   "cell_type": "code",
   "execution_count": 9,
   "metadata": {},
   "outputs": [],
   "source": [
    "%%capture\n",
    "\n",
    "\n",
    "seq = [1]        # initial sequence (testing)\n",
    "loops = 100      # number of loops to time for each sequence length\n",
    "N = 20000        # upper bound of sequence length\n",
    "\n",
    "temparray = [None] * loops    # to contain the timing of each loop\n",
    "timearray = [None] * N        # to contain the min value of each new temparray\n",
    "inputsize = [None] * N        # contains the respective length of sequence (for y-axis)\n",
    "\n",
    "for x in range(N):\n",
    "    for i in range(loops):\n",
    "        \n",
    "        # timing part\n",
    "        start = time.perf_counter()\n",
    "        binarysearch(seq, 1)\n",
    "        end = time.perf_counter()\n",
    "        elapsedtime = end - start\n",
    "        \n",
    "        # putting the time of each loop into an array, to then be able to take the min of this array as the 'true' running time\n",
    "        temparray[i] = elapsedtime\n",
    "    \n",
    "    # taking the minimum time in the temparray - this will be the y-axis\n",
    "    timearray[x] = min(temparray)\n",
    "    \n",
    "    # this array will be for the x-axis\n",
    "    inputsize[x] = len(seq)\n",
    "\n",
    "    # increase size of sequence\n",
    "    seq.append(seq[-1]+1)"
   ]
  },
  {
   "cell_type": "code",
   "execution_count": 10,
   "metadata": {},
   "outputs": [
    {
     "data": {
      "image/png": "[encoded data removed]",
      "text/plain": [
       "<Figure size 432x288 with 1 Axes>"
      ]
     },
     "metadata": {
      "needs_background": "light"
     },
     "output_type": "display_data"
    }
   ],
   "source": [
    "import matplotlib.pyplot as plt\n",
    "fig, ax = plt.subplots()\n",
    "ax.set_xlabel('Input size')\n",
    "ax.set_ylabel('Running Time [s]')\n",
    "ax.set_title('Running times: Binary Search Iterative')\n",
    "plt.plot(inputsize, timearray, label='Worst (using min times)')\n",
    "#plt.plot(inputsize, timearray, label='Best (using min times)')\n",
    "\n",
    "plt.legend()\n",
    "plt.show()"
   ]
  },
  {
   "cell_type": "code",
   "execution_count": null,
   "metadata": {},
   "outputs": [],
   "source": []
  }
 ],
 "metadata": {
  "kernelspec": {
   "display_name": "Python 3",
   "language": "python",
   "name": "python3"
  },
  "language_info": {
   "codemirror_mode": {
    "name": "ipython",
    "version": 3
   },
   "file_extension": ".py",
   "mimetype": "text/x-python",
   "name": "python",
   "nbconvert_exporter": "python",
   "pygments_lexer": "ipython3",
   "version": "3.8.5"
  }
 },
 "nbformat": 4,
 "nbformat_minor": 4
}
