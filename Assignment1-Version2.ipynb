{
 "cells": [
  {
   "cell_type": "code",
   "execution_count": 1,
   "metadata": {},
   "outputs": [],
   "source": [
    "import time"
   ]
  },
  {
   "cell_type": "code",
   "execution_count": 2,
   "metadata": {},
   "outputs": [],
   "source": [
    "def get_timings(func, seq, target, case = None, N = 600):\n",
    "\n",
    "    loops = 100      # number of loops to time for each sequence length\n",
    "\n",
    "    temparray = [None] * loops    # to contain the timing of each loop\n",
    "    timearray = [None] * N        # to contain the min value of each new temparray\n",
    "    inputsize = [None] * N        # contains the respective length of sequence (for y-axis)\n",
    "\n",
    "    for x in range(N):\n",
    "        for i in range(loops):\n",
    "\n",
    "            # timing section\n",
    "            start = time.perf_counter()\n",
    "            func(seq, target)\n",
    "            end = time.perf_counter()\n",
    "            elapsedtime = end - start\n",
    "\n",
    "            # putting the time of each loop into an array, to then be able to take the min of this array as the 'true' running time\n",
    "            temparray[i] = elapsedtime\n",
    "\n",
    "        # taking the minimum time in the temparray - this will be the y-axis\n",
    "        timearray[x] = min(temparray)\n",
    "\n",
    "        # this array will be for the x-axis\n",
    "        inputsize[x] = len(seq)\n",
    "\n",
    "        # increase size of sequence\n",
    "        seq.append(seq[-1]+1)\n",
    "        \n",
    "        # for binary search iterative BEST case - target always needs to be the mid element of the sequence\n",
    "        if case == 'BinaryBest':\n",
    "            target = get_middle_element(seq)\n",
    "        elif case == 'LinearWorst':\n",
    "            target = seq[-1]\n",
    "            \n",
    "            \n",
    "    return timearray, inputsize"
   ]
  },
  {
   "cell_type": "code",
   "execution_count": 3,
   "metadata": {},
   "outputs": [],
   "source": [
    "def fact_iter(n):\n",
    "    '''Implementation of the Factorial algorithm \n",
    "    using the Iterative approach'''\n",
    "    if (n == 0):\n",
    "        return 1\n",
    "    else:\n",
    "        factorial = 1\n",
    "        for i in range(1, n+1):\n",
    "            factorial *= i\n",
    "        return factorial"
   ]
  },
  {
   "cell_type": "code",
   "execution_count": 4,
   "metadata": {},
   "outputs": [],
   "source": [
    "def fact_recursive_non_tail(n):\n",
    "    '''Implementation of the Factorial algorithm \n",
    "    using the Recursive Non-Tail approach'''\n",
    "    if (n == 0):\n",
    "        return 1 # base case\n",
    "    return n * fact_recursive_non_tail(n-1)"
   ]
  },
  {
   "cell_type": "code",
   "execution_count": 5,
   "metadata": {},
   "outputs": [],
   "source": [
    "def fact_recursive_tail(n, a = 1):\n",
    "    '''Implementation of the Factorial algorithm \n",
    "    using the Tail Recursive approach'''\n",
    "    if (n == 0):\n",
    "        return a # base case\n",
    "    return fact_recursive_tail(n-1, a*n);"
   ]
  },
  {
   "cell_type": "markdown",
   "metadata": {},
   "source": [
    "# Linear Search"
   ]
  },
  {
   "cell_type": "code",
   "execution_count": 6,
   "metadata": {},
   "outputs": [],
   "source": [
    "def linearSearch(sequence, target):\n",
    "    for i in sequence:\n",
    "        if i == target:\n",
    "            return sequence.index(i)\n",
    "    return -1"
   ]
  },
  {
   "cell_type": "code",
   "execution_count": 7,
   "metadata": {},
   "outputs": [],
   "source": [
    "# Linear Search: Worst-case and Best-case Running times\n",
    "seq = [1]\n",
    "last_element = seq[-1]\n",
    "res = get_timings(linearSearch, seq, last_element, case = 'LinearWorst')\n",
    "x_linear_worst = res[1]\n",
    "y_linear_worst = res[0]\n",
    "\n",
    "seq = [1]\n",
    "first_element = seq[0]\n",
    "res = get_timings(linearSearch, seq, first_element)\n",
    "x_linear_best = res[1]\n",
    "y_linear_best = res[0]"
   ]
  },
  {
   "cell_type": "code",
   "execution_count": 8,
   "metadata": {},
   "outputs": [
    {
     "data": {
      "image/png": "[encoded data removed]",
      "text/plain": [
       "<Figure size 432x288 with 1 Axes>"
      ]
     },
     "metadata": {
      "needs_background": "light"
     },
     "output_type": "display_data"
    }
   ],
   "source": [
    "import matplotlib.pyplot as plt\n",
    "fig, ax = plt.subplots()\n",
    "ax.set_xlabel('Input size')\n",
    "ax.set_ylabel('Running Time [s]')\n",
    "ax.set_title('Running times: Linear Search')\n",
    "plt.plot(x_linear_worst, y_linear_worst, label='Worst case')\n",
    "plt.plot(x_linear_best, y_linear_best, label='Best case')\n",
    "\n",
    "plt.legend()\n",
    "plt.show()"
   ]
  },
  {
   "cell_type": "markdown",
   "metadata": {},
   "source": [
    "# Binary Search"
   ]
  },
  {
   "cell_type": "code",
   "execution_count": 9,
   "metadata": {},
   "outputs": [],
   "source": [
    "def binarySearchIterative(sequence, target):\n",
    "    left, right = 0, len(sequence)-1\n",
    "    while left <= right: \n",
    "  \n",
    "        mid = (right + left) // 2;\n",
    "          \n",
    "        # Check if target is present at mid \n",
    "        if sequence[mid] == target: \n",
    "            return mid \n",
    "  \n",
    "        # If target is greater, ignore left half \n",
    "        if sequence[mid] < target: \n",
    "            left = mid + 1\n",
    "  \n",
    "        # If target is smaller, ignore right half \n",
    "        elif sequence[mid] > target: \n",
    "            right = mid - 1\n",
    "      \n",
    "    # If we reach here, then the element \n",
    "    # was not present \n",
    "    return -1"
   ]
  },
  {
   "cell_type": "code",
   "execution_count": 10,
   "metadata": {},
   "outputs": [],
   "source": [
    "def get_middle_element(sequence):\n",
    "    '''For Binary Search Best Case: \n",
    "    Finding the mid element in the sequence. \n",
    "    (In the same way the binarySearchIterative function would)'''\n",
    "    left = 0\n",
    "    right = len(sequence)-1\n",
    "    mid = (right + left) // 2\n",
    "    return sequence[mid]"
   ]
  },
  {
   "cell_type": "code",
   "execution_count": 11,
   "metadata": {},
   "outputs": [],
   "source": [
    "# Binary Search Iterative: Worst-case and Best-case Running times\n",
    "upperbound = 5000\n",
    "\n",
    "seq = [1]\n",
    "res = get_timings(binarySearchIterative, seq, -15, case = None, N = upperbound)\n",
    "x_binary_worst = res[1]\n",
    "y_binary_worst = res[0]\n",
    "\n",
    "seq = [1]\n",
    "res = get_timings(binarySearchIterative, seq, get_middle_element(seq), case ='BinaryBest', N = upperbound)\n",
    "x_binary_best = res[1]\n",
    "y_binary_best = res[0]"
   ]
  },
  {
   "cell_type": "code",
   "execution_count": 12,
   "metadata": {},
   "outputs": [
    {
     "data": {
      "image/png": "[encoded data removed]",
      "text/plain": [
       "<Figure size 432x288 with 1 Axes>"
      ]
     },
     "metadata": {
      "needs_background": "light"
     },
     "output_type": "display_data"
    }
   ],
   "source": [
    "import matplotlib.pyplot as plt\n",
    "fig, ax = plt.subplots()\n",
    "ax.set_xlabel('Input size')\n",
    "ax.set_ylabel('Running Time [s]')\n",
    "ax.set_title('Running times: Binary Search Iterative')\n",
    "plt.plot(x_binary_worst, y_binary_worst, label='Worst case')\n",
    "plt.plot(x_binary_best, y_binary_best, label='Best case')\n",
    "\n",
    "plt.legend()\n",
    "plt.show()"
   ]
  },
  {
   "cell_type": "code",
   "execution_count": null,
   "metadata": {},
   "outputs": [],
   "source": []
  }
 ],
 "metadata": {
  "kernelspec": {
   "display_name": "Python 3",
   "language": "python",
   "name": "python3"
  },
  "language_info": {
   "codemirror_mode": {
    "name": "ipython",
    "version": 3
   },
   "file_extension": ".py",
   "mimetype": "text/x-python",
   "name": "python",
   "nbconvert_exporter": "python",
   "pygments_lexer": "ipython3",
   "version": "3.8.5"
  }
 },
 "nbformat": 4,
 "nbformat_minor": 4
}
